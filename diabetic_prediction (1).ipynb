{
  "nbformat": 4,
  "nbformat_minor": 0,
  "metadata": {
    "kernelspec": {
      "display_name": "Python 3",
      "language": "python",
      "name": "python3"
    },
    "language_info": {
      "codemirror_mode": {
        "name": "ipython",
        "version": 3
      },
      "file_extension": ".py",
      "mimetype": "text/x-python",
      "name": "python",
      "nbconvert_exporter": "python",
      "pygments_lexer": "ipython3",
      "version": "3.7.4"
    },
    "colab": {
      "name": "diabetic_prediction.ipynb",
      "provenance": [],
      "collapsed_sections": []
    }
  },
  "cells": [
    {
      "cell_type": "code",
      "metadata": {
        "id": "Oxg0VwSfE4Ye",
        "colab_type": "code",
        "colab": {}
      },
      "source": [
        "#!pip install -U scikit-learn\n",
        "import numpy as np\n",
        "import pandas as pd \n",
        "import matplotlib.pyplot as plt\n",
        "%matplotlib inline"
      ],
      "execution_count": 122,
      "outputs": []
    },
    {
      "cell_type": "code",
      "metadata": {
        "id": "3gQNT4QcE4Yj",
        "colab_type": "code",
        "colab": {}
      },
      "source": [
        "df=pd.read_csv('datasetsdiabetes.csv')"
      ],
      "execution_count": 123,
      "outputs": []
    },
    {
      "cell_type": "markdown",
      "metadata": {
        "id": "60cfWKWSE4Yn",
        "colab_type": "raw"
      },
      "source": [
        ""
      ]
    },
    {
      "cell_type": "code",
      "metadata": {
        "id": "xCpFfUmIE4Yo",
        "colab_type": "code",
        "colab": {
          "base_uri": "https://localhost:8080/",
          "height": 427
        },
        "outputId": "5b724ae3-ffdf-41a3-942c-6b4efe506891"
      },
      "source": [
        "df"
      ],
      "execution_count": 124,
      "outputs": [
        {
          "output_type": "execute_result",
          "data": {
            "text/html": [
              "<div>\n",
              "<style scoped>\n",
              "    .dataframe tbody tr th:only-of-type {\n",
              "        vertical-align: middle;\n",
              "    }\n",
              "\n",
              "    .dataframe tbody tr th {\n",
              "        vertical-align: top;\n",
              "    }\n",
              "\n",
              "    .dataframe thead th {\n",
              "        text-align: right;\n",
              "    }\n",
              "</style>\n",
              "<table border=\"1\" class=\"dataframe\">\n",
              "  <thead>\n",
              "    <tr style=\"text-align: right;\">\n",
              "      <th></th>\n",
              "      <th>Pregnancies</th>\n",
              "      <th>Glucose</th>\n",
              "      <th>BloodPressure</th>\n",
              "      <th>SkinThickness</th>\n",
              "      <th>Insulin</th>\n",
              "      <th>BMI</th>\n",
              "      <th>DiabetesPedigreeFunction</th>\n",
              "      <th>Age</th>\n",
              "      <th>Outcome</th>\n",
              "    </tr>\n",
              "  </thead>\n",
              "  <tbody>\n",
              "    <tr>\n",
              "      <th>0</th>\n",
              "      <td>6</td>\n",
              "      <td>148</td>\n",
              "      <td>72</td>\n",
              "      <td>35</td>\n",
              "      <td>0</td>\n",
              "      <td>33.6</td>\n",
              "      <td>0.627</td>\n",
              "      <td>50</td>\n",
              "      <td>1</td>\n",
              "    </tr>\n",
              "    <tr>\n",
              "      <th>1</th>\n",
              "      <td>1</td>\n",
              "      <td>85</td>\n",
              "      <td>66</td>\n",
              "      <td>29</td>\n",
              "      <td>0</td>\n",
              "      <td>26.6</td>\n",
              "      <td>0.351</td>\n",
              "      <td>31</td>\n",
              "      <td>0</td>\n",
              "    </tr>\n",
              "    <tr>\n",
              "      <th>2</th>\n",
              "      <td>8</td>\n",
              "      <td>183</td>\n",
              "      <td>64</td>\n",
              "      <td>0</td>\n",
              "      <td>0</td>\n",
              "      <td>23.3</td>\n",
              "      <td>0.672</td>\n",
              "      <td>32</td>\n",
              "      <td>1</td>\n",
              "    </tr>\n",
              "    <tr>\n",
              "      <th>3</th>\n",
              "      <td>1</td>\n",
              "      <td>89</td>\n",
              "      <td>66</td>\n",
              "      <td>23</td>\n",
              "      <td>94</td>\n",
              "      <td>28.1</td>\n",
              "      <td>0.167</td>\n",
              "      <td>21</td>\n",
              "      <td>0</td>\n",
              "    </tr>\n",
              "    <tr>\n",
              "      <th>4</th>\n",
              "      <td>0</td>\n",
              "      <td>137</td>\n",
              "      <td>40</td>\n",
              "      <td>35</td>\n",
              "      <td>168</td>\n",
              "      <td>43.1</td>\n",
              "      <td>2.288</td>\n",
              "      <td>33</td>\n",
              "      <td>1</td>\n",
              "    </tr>\n",
              "    <tr>\n",
              "      <th>...</th>\n",
              "      <td>...</td>\n",
              "      <td>...</td>\n",
              "      <td>...</td>\n",
              "      <td>...</td>\n",
              "      <td>...</td>\n",
              "      <td>...</td>\n",
              "      <td>...</td>\n",
              "      <td>...</td>\n",
              "      <td>...</td>\n",
              "    </tr>\n",
              "    <tr>\n",
              "      <th>763</th>\n",
              "      <td>10</td>\n",
              "      <td>101</td>\n",
              "      <td>76</td>\n",
              "      <td>48</td>\n",
              "      <td>180</td>\n",
              "      <td>32.9</td>\n",
              "      <td>0.171</td>\n",
              "      <td>63</td>\n",
              "      <td>0</td>\n",
              "    </tr>\n",
              "    <tr>\n",
              "      <th>764</th>\n",
              "      <td>2</td>\n",
              "      <td>122</td>\n",
              "      <td>70</td>\n",
              "      <td>27</td>\n",
              "      <td>0</td>\n",
              "      <td>36.8</td>\n",
              "      <td>0.340</td>\n",
              "      <td>27</td>\n",
              "      <td>0</td>\n",
              "    </tr>\n",
              "    <tr>\n",
              "      <th>765</th>\n",
              "      <td>5</td>\n",
              "      <td>121</td>\n",
              "      <td>72</td>\n",
              "      <td>23</td>\n",
              "      <td>112</td>\n",
              "      <td>26.2</td>\n",
              "      <td>0.245</td>\n",
              "      <td>30</td>\n",
              "      <td>0</td>\n",
              "    </tr>\n",
              "    <tr>\n",
              "      <th>766</th>\n",
              "      <td>1</td>\n",
              "      <td>126</td>\n",
              "      <td>60</td>\n",
              "      <td>0</td>\n",
              "      <td>0</td>\n",
              "      <td>30.1</td>\n",
              "      <td>0.349</td>\n",
              "      <td>47</td>\n",
              "      <td>1</td>\n",
              "    </tr>\n",
              "    <tr>\n",
              "      <th>767</th>\n",
              "      <td>1</td>\n",
              "      <td>93</td>\n",
              "      <td>70</td>\n",
              "      <td>31</td>\n",
              "      <td>0</td>\n",
              "      <td>30.4</td>\n",
              "      <td>0.315</td>\n",
              "      <td>23</td>\n",
              "      <td>0</td>\n",
              "    </tr>\n",
              "  </tbody>\n",
              "</table>\n",
              "<p>768 rows × 9 columns</p>\n",
              "</div>"
            ],
            "text/plain": [
              "     Pregnancies  Glucose  ...  Age  Outcome\n",
              "0              6      148  ...   50        1\n",
              "1              1       85  ...   31        0\n",
              "2              8      183  ...   32        1\n",
              "3              1       89  ...   21        0\n",
              "4              0      137  ...   33        1\n",
              "..           ...      ...  ...  ...      ...\n",
              "763           10      101  ...   63        0\n",
              "764            2      122  ...   27        0\n",
              "765            5      121  ...   30        0\n",
              "766            1      126  ...   47        1\n",
              "767            1       93  ...   23        0\n",
              "\n",
              "[768 rows x 9 columns]"
            ]
          },
          "metadata": {
            "tags": []
          },
          "execution_count": 124
        }
      ]
    },
    {
      "cell_type": "markdown",
      "metadata": {
        "id": "kgS14eCV4fbb",
        "colab_type": "text"
      },
      "source": [
        "# **Data insights**"
      ]
    },
    {
      "cell_type": "code",
      "metadata": {
        "id": "e1rhnikKE4Yt",
        "colab_type": "code",
        "colab": {
          "base_uri": "https://localhost:8080/",
          "height": 308
        },
        "outputId": "d3a11517-ead0-4966-9b10-1c1150b79c0f"
      },
      "source": [
        "df.describe()"
      ],
      "execution_count": 125,
      "outputs": [
        {
          "output_type": "execute_result",
          "data": {
            "text/html": [
              "<div>\n",
              "<style scoped>\n",
              "    .dataframe tbody tr th:only-of-type {\n",
              "        vertical-align: middle;\n",
              "    }\n",
              "\n",
              "    .dataframe tbody tr th {\n",
              "        vertical-align: top;\n",
              "    }\n",
              "\n",
              "    .dataframe thead th {\n",
              "        text-align: right;\n",
              "    }\n",
              "</style>\n",
              "<table border=\"1\" class=\"dataframe\">\n",
              "  <thead>\n",
              "    <tr style=\"text-align: right;\">\n",
              "      <th></th>\n",
              "      <th>Pregnancies</th>\n",
              "      <th>Glucose</th>\n",
              "      <th>BloodPressure</th>\n",
              "      <th>SkinThickness</th>\n",
              "      <th>Insulin</th>\n",
              "      <th>BMI</th>\n",
              "      <th>DiabetesPedigreeFunction</th>\n",
              "      <th>Age</th>\n",
              "      <th>Outcome</th>\n",
              "    </tr>\n",
              "  </thead>\n",
              "  <tbody>\n",
              "    <tr>\n",
              "      <th>count</th>\n",
              "      <td>768.000000</td>\n",
              "      <td>768.000000</td>\n",
              "      <td>768.000000</td>\n",
              "      <td>768.000000</td>\n",
              "      <td>768.000000</td>\n",
              "      <td>768.000000</td>\n",
              "      <td>768.000000</td>\n",
              "      <td>768.000000</td>\n",
              "      <td>768.000000</td>\n",
              "    </tr>\n",
              "    <tr>\n",
              "      <th>mean</th>\n",
              "      <td>3.845052</td>\n",
              "      <td>120.894531</td>\n",
              "      <td>69.105469</td>\n",
              "      <td>20.536458</td>\n",
              "      <td>79.799479</td>\n",
              "      <td>31.992578</td>\n",
              "      <td>0.471876</td>\n",
              "      <td>33.240885</td>\n",
              "      <td>0.348958</td>\n",
              "    </tr>\n",
              "    <tr>\n",
              "      <th>std</th>\n",
              "      <td>3.369578</td>\n",
              "      <td>31.972618</td>\n",
              "      <td>19.355807</td>\n",
              "      <td>15.952218</td>\n",
              "      <td>115.244002</td>\n",
              "      <td>7.884160</td>\n",
              "      <td>0.331329</td>\n",
              "      <td>11.760232</td>\n",
              "      <td>0.476951</td>\n",
              "    </tr>\n",
              "    <tr>\n",
              "      <th>min</th>\n",
              "      <td>0.000000</td>\n",
              "      <td>0.000000</td>\n",
              "      <td>0.000000</td>\n",
              "      <td>0.000000</td>\n",
              "      <td>0.000000</td>\n",
              "      <td>0.000000</td>\n",
              "      <td>0.078000</td>\n",
              "      <td>21.000000</td>\n",
              "      <td>0.000000</td>\n",
              "    </tr>\n",
              "    <tr>\n",
              "      <th>25%</th>\n",
              "      <td>1.000000</td>\n",
              "      <td>99.000000</td>\n",
              "      <td>62.000000</td>\n",
              "      <td>0.000000</td>\n",
              "      <td>0.000000</td>\n",
              "      <td>27.300000</td>\n",
              "      <td>0.243750</td>\n",
              "      <td>24.000000</td>\n",
              "      <td>0.000000</td>\n",
              "    </tr>\n",
              "    <tr>\n",
              "      <th>50%</th>\n",
              "      <td>3.000000</td>\n",
              "      <td>117.000000</td>\n",
              "      <td>72.000000</td>\n",
              "      <td>23.000000</td>\n",
              "      <td>30.500000</td>\n",
              "      <td>32.000000</td>\n",
              "      <td>0.372500</td>\n",
              "      <td>29.000000</td>\n",
              "      <td>0.000000</td>\n",
              "    </tr>\n",
              "    <tr>\n",
              "      <th>75%</th>\n",
              "      <td>6.000000</td>\n",
              "      <td>140.250000</td>\n",
              "      <td>80.000000</td>\n",
              "      <td>32.000000</td>\n",
              "      <td>127.250000</td>\n",
              "      <td>36.600000</td>\n",
              "      <td>0.626250</td>\n",
              "      <td>41.000000</td>\n",
              "      <td>1.000000</td>\n",
              "    </tr>\n",
              "    <tr>\n",
              "      <th>max</th>\n",
              "      <td>17.000000</td>\n",
              "      <td>199.000000</td>\n",
              "      <td>122.000000</td>\n",
              "      <td>99.000000</td>\n",
              "      <td>846.000000</td>\n",
              "      <td>67.100000</td>\n",
              "      <td>2.420000</td>\n",
              "      <td>81.000000</td>\n",
              "      <td>1.000000</td>\n",
              "    </tr>\n",
              "  </tbody>\n",
              "</table>\n",
              "</div>"
            ],
            "text/plain": [
              "       Pregnancies     Glucose  ...         Age     Outcome\n",
              "count   768.000000  768.000000  ...  768.000000  768.000000\n",
              "mean      3.845052  120.894531  ...   33.240885    0.348958\n",
              "std       3.369578   31.972618  ...   11.760232    0.476951\n",
              "min       0.000000    0.000000  ...   21.000000    0.000000\n",
              "25%       1.000000   99.000000  ...   24.000000    0.000000\n",
              "50%       3.000000  117.000000  ...   29.000000    0.000000\n",
              "75%       6.000000  140.250000  ...   41.000000    1.000000\n",
              "max      17.000000  199.000000  ...   81.000000    1.000000\n",
              "\n",
              "[8 rows x 9 columns]"
            ]
          },
          "metadata": {
            "tags": []
          },
          "execution_count": 125
        }
      ]
    },
    {
      "cell_type": "code",
      "metadata": {
        "id": "GsovpqOcE4Yx",
        "colab_type": "code",
        "colab": {
          "base_uri": "https://localhost:8080/",
          "height": 1000
        },
        "outputId": "44e97cd4-e81a-46fd-d0cc-6e8f66f71444"
      },
      "source": [
        "df.hist(bins=20,figsize=(10,15))"
      ],
      "execution_count": 126,
      "outputs": [
        {
          "output_type": "execute_result",
          "data": {
            "text/plain": [
              "array([[<matplotlib.axes._subplots.AxesSubplot object at 0x7fc4b9d7a5c0>,\n",
              "        <matplotlib.axes._subplots.AxesSubplot object at 0x7fc4b9d34a90>,\n",
              "        <matplotlib.axes._subplots.AxesSubplot object at 0x7fc4b9ce1e10>],\n",
              "       [<matplotlib.axes._subplots.AxesSubplot object at 0x7fc4b9d1b1d0>,\n",
              "        <matplotlib.axes._subplots.AxesSubplot object at 0x7fc4b9ccb550>,\n",
              "        <matplotlib.axes._subplots.AxesSubplot object at 0x7fc4b9c778d0>],\n",
              "       [<matplotlib.axes._subplots.AxesSubplot object at 0x7fc4b9c29c50>,\n",
              "        <matplotlib.axes._subplots.AxesSubplot object at 0x7fc4b9bddf98>,\n",
              "        <matplotlib.axes._subplots.AxesSubplot object at 0x7fc4b9be9048>]],\n",
              "      dtype=object)"
            ]
          },
          "metadata": {
            "tags": []
          },
          "execution_count": 126
        },
        {
          "output_type": "display_data",
          "data": {
            "image/png": "[encoded data removed]",
            "text/plain": [
              "<Figure size 720x1080 with 9 Axes>"
            ]
          },
          "metadata": {
            "tags": [],
            "needs_background": "light"
          }
        }
      ]
    },
    {
      "cell_type": "markdown",
      "metadata": {
        "id": "k-8kcgys4oCG",
        "colab_type": "text"
      },
      "source": [
        "# **Finding outliers using boxplots. Categorized by outcome. **"
      ]
    },
    {
      "cell_type": "code",
      "metadata": {
        "id": "QmcXD4KaW17-",
        "colab_type": "code",
        "colab": {
          "base_uri": "https://localhost:8080/",
          "height": 884
        },
        "outputId": "8f9a1874-4c82-4269-9d95-e8698ef7730f"
      },
      "source": [
        "fig, axes = plt.subplots(nrows=2,ncols=4, figsize=(20,15), sharey=True)\n",
        "df.boxplot(by='Outcome', return_type='axes', ax=axes)"
      ],
      "execution_count": 127,
      "outputs": [
        {
          "output_type": "stream",
          "text": [
            "/usr/local/lib/python3.6/dist-packages/pandas/plotting/_matplotlib/boxplot.py:375: UserWarning: When passing multiple axes, sharex and sharey are ignored. These settings must be specified when creating axes\n",
            "  **kwds,\n"
          ],
          "name": "stderr"
        },
        {
          "output_type": "execute_result",
          "data": {
            "text/plain": [
              "Age                              AxesSubplot(0.1,0.559091;0.173913x0.340909)\n",
              "BMI                         AxesSubplot(0.308696,0.559091;0.173913x0.340909)\n",
              "BloodPressure               AxesSubplot(0.517391,0.559091;0.173913x0.340909)\n",
              "DiabetesPedigreeFunction    AxesSubplot(0.726087,0.559091;0.173913x0.340909)\n",
              "Glucose                              AxesSubplot(0.1,0.15;0.173913x0.340909)\n",
              "Insulin                         AxesSubplot(0.308696,0.15;0.173913x0.340909)\n",
              "Pregnancies                     AxesSubplot(0.517391,0.15;0.173913x0.340909)\n",
              "SkinThickness                   AxesSubplot(0.726087,0.15;0.173913x0.340909)\n",
              "dtype: object"
            ]
          },
          "metadata": {
            "tags": []
          },
          "execution_count": 127
        },
        {
          "output_type": "display_data",
          "data": {
            "image/png": "[encoded data removed]",
            "text/plain": [
              "<Figure size 1440x1080 with 8 Axes>"
            ]
          },
          "metadata": {
            "tags": [],
            "needs_background": "light"
          }
        }
      ]
    },
    {
      "cell_type": "markdown",
      "metadata": {
        "id": "CGuBRpwj43PP",
        "colab_type": "text"
      },
      "source": [
        "# **LOOKING for Correlation**"
      ]
    },
    {
      "cell_type": "code",
      "metadata": {
        "id": "TSpNeYd8U8bp",
        "colab_type": "code",
        "colab": {
          "base_uri": "https://localhost:8080/",
          "height": 199
        },
        "outputId": "703374ab-9aa1-44cd-f56d-1ad063c2ab3d"
      },
      "source": [
        "corr_matrix=df.corr()\n",
        "print(corr_matrix['Outcome'])"
      ],
      "execution_count": 128,
      "outputs": [
        {
          "output_type": "stream",
          "text": [
            "Pregnancies                 0.221898\n",
            "Glucose                     0.466581\n",
            "BloodPressure               0.065068\n",
            "SkinThickness               0.074752\n",
            "Insulin                     0.130548\n",
            "BMI                         0.292695\n",
            "DiabetesPedigreeFunction    0.173844\n",
            "Age                         0.238356\n",
            "Outcome                     1.000000\n",
            "Name: Outcome, dtype: float64\n"
          ],
          "name": "stdout"
        }
      ]
    },
    {
      "cell_type": "markdown",
      "metadata": {
        "id": "Ux5ytqOh49Mw",
        "colab_type": "text"
      },
      "source": [
        "## **Spliting the data into train and test set using stratified shuffle methos**"
      ]
    },
    {
      "cell_type": "code",
      "metadata": {
        "id": "rKsuBjyIE4Y6",
        "colab_type": "code",
        "colab": {
          "base_uri": "https://localhost:8080/",
          "height": 217
        },
        "outputId": "0ebfc61d-940d-44db-cf5b-75c704c1f053"
      },
      "source": [
        "from sklearn.model_selection import StratifiedShuffleSplit\n",
        "\n",
        "split=StratifiedShuffleSplit(n_splits=1,test_size=0.2,random_state=42)\n",
        "for train_index,test_index in split.split(df,df['Outcome']):\n",
        "    strat_train_set=df.iloc[train_index]\n",
        "    strat_test_set=df.iloc[test_index]\n",
        "\n",
        "print(\"test set\\n\",strat_test_set['Outcome'].value_counts()/len(strat_test_set) )\n",
        "print(\"train set\\n\",strat_train_set['Outcome'].value_counts()/len(strat_train_set) )\n",
        "df['Outcome'].value_counts()/len(df)  "
      ],
      "execution_count": 129,
      "outputs": [
        {
          "output_type": "stream",
          "text": [
            "test set\n",
            " 0    0.649351\n",
            "1    0.350649\n",
            "Name: Outcome, dtype: float64\n",
            "train set\n",
            " 0    0.651466\n",
            "1    0.348534\n",
            "Name: Outcome, dtype: float64\n"
          ],
          "name": "stdout"
        },
        {
          "output_type": "execute_result",
          "data": {
            "text/plain": [
              "0    0.651042\n",
              "1    0.348958\n",
              "Name: Outcome, dtype: float64"
            ]
          },
          "metadata": {
            "tags": []
          },
          "execution_count": 129
        }
      ]
    },
    {
      "cell_type": "markdown",
      "metadata": {
        "id": "8FiIIkiw5HKq",
        "colab_type": "text"
      },
      "source": [
        "## **Looking for outliers in trainset**"
      ]
    },
    {
      "cell_type": "code",
      "metadata": {
        "id": "9XsJUlV9WUyl",
        "colab_type": "code",
        "colab": {
          "base_uri": "https://localhost:8080/",
          "height": 884
        },
        "outputId": "49c51efd-c487-41ea-a052-99459d1193b6"
      },
      "source": [
        "fig, axes = plt.subplots(nrows=2,ncols=4, figsize=(20,15), sharey=True)\n",
        "strat_train_set.boxplot(by='Outcome', return_type='axes', ax=axes)"
      ],
      "execution_count": 130,
      "outputs": [
        {
          "output_type": "stream",
          "text": [
            "/usr/local/lib/python3.6/dist-packages/pandas/plotting/_matplotlib/boxplot.py:375: UserWarning: When passing multiple axes, sharex and sharey are ignored. These settings must be specified when creating axes\n",
            "  **kwds,\n"
          ],
          "name": "stderr"
        },
        {
          "output_type": "execute_result",
          "data": {
            "text/plain": [
              "Age                              AxesSubplot(0.1,0.559091;0.173913x0.340909)\n",
              "BMI                         AxesSubplot(0.308696,0.559091;0.173913x0.340909)\n",
              "BloodPressure               AxesSubplot(0.517391,0.559091;0.173913x0.340909)\n",
              "DiabetesPedigreeFunction    AxesSubplot(0.726087,0.559091;0.173913x0.340909)\n",
              "Glucose                              AxesSubplot(0.1,0.15;0.173913x0.340909)\n",
              "Insulin                         AxesSubplot(0.308696,0.15;0.173913x0.340909)\n",
              "Pregnancies                     AxesSubplot(0.517391,0.15;0.173913x0.340909)\n",
              "SkinThickness                   AxesSubplot(0.726087,0.15;0.173913x0.340909)\n",
              "dtype: object"
            ]
          },
          "metadata": {
            "tags": []
          },
          "execution_count": 130
        },
        {
          "output_type": "display_data",
          "data": {
            "image/png": "[encoded data removed]",
            "text/plain": [
              "<Figure size 1440x1080 with 8 Axes>"
            ]
          },
          "metadata": {
            "tags": [],
            "needs_background": "light"
          }
        }
      ]
    },
    {
      "cell_type": "markdown",
      "metadata": {
        "id": "_Rn5SLgu5YHt",
        "colab_type": "text"
      },
      "source": [
        "## **Removing outliers from trainset using interquarantile method**"
      ]
    },
    {
      "cell_type": "code",
      "metadata": {
        "id": "H-jnDh5bVeyE",
        "colab_type": "code",
        "colab": {
          "base_uri": "https://localhost:8080/",
          "height": 181
        },
        "outputId": "b3284c66-ea66-4eb3-dc63-60de98518075"
      },
      "source": [
        "Q1 = strat_train_set.quantile(0.25)\n",
        "Q3 = strat_train_set.quantile(0.75)\n",
        "IQR = Q3[:-1] - Q1[:-1]\n",
        "#print(\"IQR\",IQR)\n",
        "new_train = strat_train_set[~((strat_train_set < (Q1[:-1] - 1.5 * IQR)) |(strat_train_set > (Q3[:-1] + 1.5 * IQR))).any(axis=1)]\n",
        "new_train.shape\n",
        "Q1[:-1]"
      ],
      "execution_count": 131,
      "outputs": [
        {
          "output_type": "execute_result",
          "data": {
            "text/plain": [
              "Pregnancies                  1.000\n",
              "Glucose                     99.000\n",
              "BloodPressure               62.500\n",
              "SkinThickness                0.000\n",
              "Insulin                      0.000\n",
              "BMI                         27.500\n",
              "DiabetesPedigreeFunction     0.245\n",
              "Age                         24.000\n",
              "Name: 0.25, dtype: float64"
            ]
          },
          "metadata": {
            "tags": []
          },
          "execution_count": 131
        }
      ]
    },
    {
      "cell_type": "markdown",
      "metadata": {
        "id": "ONewjzRk5dVh",
        "colab_type": "text"
      },
      "source": [
        "## **Look outliers are much less**"
      ]
    },
    {
      "cell_type": "code",
      "metadata": {
        "id": "AP95splwaWfW",
        "colab_type": "code",
        "colab": {
          "base_uri": "https://localhost:8080/",
          "height": 884
        },
        "outputId": "cabc1789-1d63-474b-8c80-ec525c50c3e6"
      },
      "source": [
        "fig, axes = plt.subplots(nrows=2,ncols=4, figsize=(20,15), sharey=True)\n",
        "new_train.boxplot(by='Outcome', return_type='axes', ax=axes)"
      ],
      "execution_count": 132,
      "outputs": [
        {
          "output_type": "stream",
          "text": [
            "/usr/local/lib/python3.6/dist-packages/pandas/plotting/_matplotlib/boxplot.py:375: UserWarning: When passing multiple axes, sharex and sharey are ignored. These settings must be specified when creating axes\n",
            "  **kwds,\n"
          ],
          "name": "stderr"
        },
        {
          "output_type": "execute_result",
          "data": {
            "text/plain": [
              "Age                              AxesSubplot(0.1,0.559091;0.173913x0.340909)\n",
              "BMI                         AxesSubplot(0.308696,0.559091;0.173913x0.340909)\n",
              "BloodPressure               AxesSubplot(0.517391,0.559091;0.173913x0.340909)\n",
              "DiabetesPedigreeFunction    AxesSubplot(0.726087,0.559091;0.173913x0.340909)\n",
              "Glucose                              AxesSubplot(0.1,0.15;0.173913x0.340909)\n",
              "Insulin                         AxesSubplot(0.308696,0.15;0.173913x0.340909)\n",
              "Pregnancies                     AxesSubplot(0.517391,0.15;0.173913x0.340909)\n",
              "SkinThickness                   AxesSubplot(0.726087,0.15;0.173913x0.340909)\n",
              "dtype: object"
            ]
          },
          "metadata": {
            "tags": []
          },
          "execution_count": 132
        },
        {
          "output_type": "display_data",
          "data": {
            "image/png": "[encoded data removed]",
            "text/plain": [
              "<Figure size 1440x1080 with 8 Axes>"
            ]
          },
          "metadata": {
            "tags": [],
            "needs_background": "light"
          }
        }
      ]
    },
    {
      "cell_type": "markdown",
      "metadata": {
        "id": "FKVYNne25lSA",
        "colab_type": "text"
      },
      "source": [
        "## **Upsampling the positive class as our data is imbalanced and negative class has more instances**"
      ]
    },
    {
      "cell_type": "code",
      "metadata": {
        "id": "lG0EqK1t2m4n",
        "colab_type": "code",
        "colab": {
          "base_uri": "https://localhost:8080/",
          "height": 72
        },
        "outputId": "b8692091-7ef2-4fbc-8338-e592056e9fba"
      },
      "source": [
        "from sklearn.model_selection import train_test_split\n",
        "from sklearn.utils import resample\n",
        "\n",
        "# separate minority and majority classes\n",
        "negative = new_train[new_train.Outcome==0]\n",
        "positive = new_train[new_train.Outcome==1]\n",
        "# upsample minority\n",
        "pos_upsampled = resample(positive,replace=True, # sample with replacement\n",
        "                         n_samples=len(negative), # match number in majority class\n",
        "                         random_state=27) # reproducible results\n",
        "# combine majority and upsampled minority\n",
        "upsampled = pd.concat([negative, pos_upsampled])\n",
        "\n",
        "# check new class counts\n",
        "upsampled.Outcome.value_counts()\n",
        "\n",
        "\n"
      ],
      "execution_count": 133,
      "outputs": [
        {
          "output_type": "execute_result",
          "data": {
            "text/plain": [
              "1    358\n",
              "0    358\n",
              "Name: Outcome, dtype: int64"
            ]
          },
          "metadata": {
            "tags": []
          },
          "execution_count": 133
        }
      ]
    },
    {
      "cell_type": "markdown",
      "metadata": {
        "id": "Tg65tbjG5wHH",
        "colab_type": "text"
      },
      "source": [
        "## Spliting features and label of train set"
      ]
    },
    {
      "cell_type": "code",
      "metadata": {
        "id": "qR1sD0SFE4ZA",
        "colab_type": "code",
        "colab": {}
      },
      "source": [
        "upsampled.reset_index(inplace=True)\n",
        "upsampled.drop('index',axis=1,inplace=True)\n",
        "scaled_features=upsampled.drop(\"Outcome\",axis=1)\n",
        "labels=upsampled[\"Outcome\"].copy()"
      ],
      "execution_count": 134,
      "outputs": []
    },
    {
      "cell_type": "code",
      "metadata": {
        "id": "AObj0ZmCdsKL",
        "colab_type": "code",
        "colab": {
          "base_uri": "https://localhost:8080/",
          "height": 407
        },
        "outputId": "5f4ae5c2-ded6-466a-e20d-b5f2586adf9c"
      },
      "source": [
        "# from sklearn.preprocessing import StandardScaler\n",
        "# scaler = StandardScaler()\n",
        "# scaled_features=scaler.fit_transform(features)\n",
        "\n",
        "new_train\n",
        "scaled_features\n"
      ],
      "execution_count": 135,
      "outputs": [
        {
          "output_type": "execute_result",
          "data": {
            "text/html": [
              "<div>\n",
              "<style scoped>\n",
              "    .dataframe tbody tr th:only-of-type {\n",
              "        vertical-align: middle;\n",
              "    }\n",
              "\n",
              "    .dataframe tbody tr th {\n",
              "        vertical-align: top;\n",
              "    }\n",
              "\n",
              "    .dataframe thead th {\n",
              "        text-align: right;\n",
              "    }\n",
              "</style>\n",
              "<table border=\"1\" class=\"dataframe\">\n",
              "  <thead>\n",
              "    <tr style=\"text-align: right;\">\n",
              "      <th></th>\n",
              "      <th>Pregnancies</th>\n",
              "      <th>Glucose</th>\n",
              "      <th>BloodPressure</th>\n",
              "      <th>SkinThickness</th>\n",
              "      <th>Insulin</th>\n",
              "      <th>BMI</th>\n",
              "      <th>DiabetesPedigreeFunction</th>\n",
              "      <th>Age</th>\n",
              "    </tr>\n",
              "  </thead>\n",
              "  <tbody>\n",
              "    <tr>\n",
              "      <th>0</th>\n",
              "      <td>1</td>\n",
              "      <td>90</td>\n",
              "      <td>62</td>\n",
              "      <td>12</td>\n",
              "      <td>43</td>\n",
              "      <td>27.2</td>\n",
              "      <td>0.580</td>\n",
              "      <td>24</td>\n",
              "    </tr>\n",
              "    <tr>\n",
              "      <th>1</th>\n",
              "      <td>5</td>\n",
              "      <td>126</td>\n",
              "      <td>78</td>\n",
              "      <td>27</td>\n",
              "      <td>22</td>\n",
              "      <td>29.6</td>\n",
              "      <td>0.439</td>\n",
              "      <td>40</td>\n",
              "    </tr>\n",
              "    <tr>\n",
              "      <th>2</th>\n",
              "      <td>2</td>\n",
              "      <td>105</td>\n",
              "      <td>58</td>\n",
              "      <td>40</td>\n",
              "      <td>94</td>\n",
              "      <td>34.9</td>\n",
              "      <td>0.225</td>\n",
              "      <td>25</td>\n",
              "    </tr>\n",
              "    <tr>\n",
              "      <th>3</th>\n",
              "      <td>1</td>\n",
              "      <td>146</td>\n",
              "      <td>56</td>\n",
              "      <td>0</td>\n",
              "      <td>0</td>\n",
              "      <td>29.7</td>\n",
              "      <td>0.564</td>\n",
              "      <td>29</td>\n",
              "    </tr>\n",
              "    <tr>\n",
              "      <th>4</th>\n",
              "      <td>0</td>\n",
              "      <td>95</td>\n",
              "      <td>64</td>\n",
              "      <td>39</td>\n",
              "      <td>105</td>\n",
              "      <td>44.6</td>\n",
              "      <td>0.366</td>\n",
              "      <td>22</td>\n",
              "    </tr>\n",
              "    <tr>\n",
              "      <th>...</th>\n",
              "      <td>...</td>\n",
              "      <td>...</td>\n",
              "      <td>...</td>\n",
              "      <td>...</td>\n",
              "      <td>...</td>\n",
              "      <td>...</td>\n",
              "      <td>...</td>\n",
              "      <td>...</td>\n",
              "    </tr>\n",
              "    <tr>\n",
              "      <th>711</th>\n",
              "      <td>0</td>\n",
              "      <td>118</td>\n",
              "      <td>84</td>\n",
              "      <td>47</td>\n",
              "      <td>230</td>\n",
              "      <td>45.8</td>\n",
              "      <td>0.551</td>\n",
              "      <td>31</td>\n",
              "    </tr>\n",
              "    <tr>\n",
              "      <th>712</th>\n",
              "      <td>10</td>\n",
              "      <td>111</td>\n",
              "      <td>70</td>\n",
              "      <td>27</td>\n",
              "      <td>0</td>\n",
              "      <td>27.5</td>\n",
              "      <td>0.141</td>\n",
              "      <td>40</td>\n",
              "    </tr>\n",
              "    <tr>\n",
              "      <th>713</th>\n",
              "      <td>5</td>\n",
              "      <td>189</td>\n",
              "      <td>64</td>\n",
              "      <td>33</td>\n",
              "      <td>325</td>\n",
              "      <td>31.2</td>\n",
              "      <td>0.583</td>\n",
              "      <td>29</td>\n",
              "    </tr>\n",
              "    <tr>\n",
              "      <th>714</th>\n",
              "      <td>13</td>\n",
              "      <td>152</td>\n",
              "      <td>90</td>\n",
              "      <td>33</td>\n",
              "      <td>29</td>\n",
              "      <td>26.8</td>\n",
              "      <td>0.731</td>\n",
              "      <td>43</td>\n",
              "    </tr>\n",
              "    <tr>\n",
              "      <th>715</th>\n",
              "      <td>7</td>\n",
              "      <td>181</td>\n",
              "      <td>84</td>\n",
              "      <td>21</td>\n",
              "      <td>192</td>\n",
              "      <td>35.9</td>\n",
              "      <td>0.586</td>\n",
              "      <td>51</td>\n",
              "    </tr>\n",
              "  </tbody>\n",
              "</table>\n",
              "<p>716 rows × 8 columns</p>\n",
              "</div>"
            ],
            "text/plain": [
              "     Pregnancies  Glucose  BloodPressure  ...   BMI  DiabetesPedigreeFunction  Age\n",
              "0              1       90             62  ...  27.2                     0.580   24\n",
              "1              5      126             78  ...  29.6                     0.439   40\n",
              "2              2      105             58  ...  34.9                     0.225   25\n",
              "3              1      146             56  ...  29.7                     0.564   29\n",
              "4              0       95             64  ...  44.6                     0.366   22\n",
              "..           ...      ...            ...  ...   ...                       ...  ...\n",
              "711            0      118             84  ...  45.8                     0.551   31\n",
              "712           10      111             70  ...  27.5                     0.141   40\n",
              "713            5      189             64  ...  31.2                     0.583   29\n",
              "714           13      152             90  ...  26.8                     0.731   43\n",
              "715            7      181             84  ...  35.9                     0.586   51\n",
              "\n",
              "[716 rows x 8 columns]"
            ]
          },
          "metadata": {
            "tags": []
          },
          "execution_count": 135
        }
      ]
    },
    {
      "cell_type": "code",
      "metadata": {
        "id": "MO08upZZebxF",
        "colab_type": "code",
        "colab": {
          "base_uri": "https://localhost:8080/",
          "height": 407
        },
        "outputId": "1ea0de14-1ce0-41c5-a298-40d5064b9e13"
      },
      "source": [
        "scaled_features"
      ],
      "execution_count": 136,
      "outputs": [
        {
          "output_type": "execute_result",
          "data": {
            "text/html": [
              "<div>\n",
              "<style scoped>\n",
              "    .dataframe tbody tr th:only-of-type {\n",
              "        vertical-align: middle;\n",
              "    }\n",
              "\n",
              "    .dataframe tbody tr th {\n",
              "        vertical-align: top;\n",
              "    }\n",
              "\n",
              "    .dataframe thead th {\n",
              "        text-align: right;\n",
              "    }\n",
              "</style>\n",
              "<table border=\"1\" class=\"dataframe\">\n",
              "  <thead>\n",
              "    <tr style=\"text-align: right;\">\n",
              "      <th></th>\n",
              "      <th>Pregnancies</th>\n",
              "      <th>Glucose</th>\n",
              "      <th>BloodPressure</th>\n",
              "      <th>SkinThickness</th>\n",
              "      <th>Insulin</th>\n",
              "      <th>BMI</th>\n",
              "      <th>DiabetesPedigreeFunction</th>\n",
              "      <th>Age</th>\n",
              "    </tr>\n",
              "  </thead>\n",
              "  <tbody>\n",
              "    <tr>\n",
              "      <th>0</th>\n",
              "      <td>1</td>\n",
              "      <td>90</td>\n",
              "      <td>62</td>\n",
              "      <td>12</td>\n",
              "      <td>43</td>\n",
              "      <td>27.2</td>\n",
              "      <td>0.580</td>\n",
              "      <td>24</td>\n",
              "    </tr>\n",
              "    <tr>\n",
              "      <th>1</th>\n",
              "      <td>5</td>\n",
              "      <td>126</td>\n",
              "      <td>78</td>\n",
              "      <td>27</td>\n",
              "      <td>22</td>\n",
              "      <td>29.6</td>\n",
              "      <td>0.439</td>\n",
              "      <td>40</td>\n",
              "    </tr>\n",
              "    <tr>\n",
              "      <th>2</th>\n",
              "      <td>2</td>\n",
              "      <td>105</td>\n",
              "      <td>58</td>\n",
              "      <td>40</td>\n",
              "      <td>94</td>\n",
              "      <td>34.9</td>\n",
              "      <td>0.225</td>\n",
              "      <td>25</td>\n",
              "    </tr>\n",
              "    <tr>\n",
              "      <th>3</th>\n",
              "      <td>1</td>\n",
              "      <td>146</td>\n",
              "      <td>56</td>\n",
              "      <td>0</td>\n",
              "      <td>0</td>\n",
              "      <td>29.7</td>\n",
              "      <td>0.564</td>\n",
              "      <td>29</td>\n",
              "    </tr>\n",
              "    <tr>\n",
              "      <th>4</th>\n",
              "      <td>0</td>\n",
              "      <td>95</td>\n",
              "      <td>64</td>\n",
              "      <td>39</td>\n",
              "      <td>105</td>\n",
              "      <td>44.6</td>\n",
              "      <td>0.366</td>\n",
              "      <td>22</td>\n",
              "    </tr>\n",
              "    <tr>\n",
              "      <th>...</th>\n",
              "      <td>...</td>\n",
              "      <td>...</td>\n",
              "      <td>...</td>\n",
              "      <td>...</td>\n",
              "      <td>...</td>\n",
              "      <td>...</td>\n",
              "      <td>...</td>\n",
              "      <td>...</td>\n",
              "    </tr>\n",
              "    <tr>\n",
              "      <th>711</th>\n",
              "      <td>0</td>\n",
              "      <td>118</td>\n",
              "      <td>84</td>\n",
              "      <td>47</td>\n",
              "      <td>230</td>\n",
              "      <td>45.8</td>\n",
              "      <td>0.551</td>\n",
              "      <td>31</td>\n",
              "    </tr>\n",
              "    <tr>\n",
              "      <th>712</th>\n",
              "      <td>10</td>\n",
              "      <td>111</td>\n",
              "      <td>70</td>\n",
              "      <td>27</td>\n",
              "      <td>0</td>\n",
              "      <td>27.5</td>\n",
              "      <td>0.141</td>\n",
              "      <td>40</td>\n",
              "    </tr>\n",
              "    <tr>\n",
              "      <th>713</th>\n",
              "      <td>5</td>\n",
              "      <td>189</td>\n",
              "      <td>64</td>\n",
              "      <td>33</td>\n",
              "      <td>325</td>\n",
              "      <td>31.2</td>\n",
              "      <td>0.583</td>\n",
              "      <td>29</td>\n",
              "    </tr>\n",
              "    <tr>\n",
              "      <th>714</th>\n",
              "      <td>13</td>\n",
              "      <td>152</td>\n",
              "      <td>90</td>\n",
              "      <td>33</td>\n",
              "      <td>29</td>\n",
              "      <td>26.8</td>\n",
              "      <td>0.731</td>\n",
              "      <td>43</td>\n",
              "    </tr>\n",
              "    <tr>\n",
              "      <th>715</th>\n",
              "      <td>7</td>\n",
              "      <td>181</td>\n",
              "      <td>84</td>\n",
              "      <td>21</td>\n",
              "      <td>192</td>\n",
              "      <td>35.9</td>\n",
              "      <td>0.586</td>\n",
              "      <td>51</td>\n",
              "    </tr>\n",
              "  </tbody>\n",
              "</table>\n",
              "<p>716 rows × 8 columns</p>\n",
              "</div>"
            ],
            "text/plain": [
              "     Pregnancies  Glucose  BloodPressure  ...   BMI  DiabetesPedigreeFunction  Age\n",
              "0              1       90             62  ...  27.2                     0.580   24\n",
              "1              5      126             78  ...  29.6                     0.439   40\n",
              "2              2      105             58  ...  34.9                     0.225   25\n",
              "3              1      146             56  ...  29.7                     0.564   29\n",
              "4              0       95             64  ...  44.6                     0.366   22\n",
              "..           ...      ...            ...  ...   ...                       ...  ...\n",
              "711            0      118             84  ...  45.8                     0.551   31\n",
              "712           10      111             70  ...  27.5                     0.141   40\n",
              "713            5      189             64  ...  31.2                     0.583   29\n",
              "714           13      152             90  ...  26.8                     0.731   43\n",
              "715            7      181             84  ...  35.9                     0.586   51\n",
              "\n",
              "[716 rows x 8 columns]"
            ]
          },
          "metadata": {
            "tags": []
          },
          "execution_count": 136
        }
      ]
    },
    {
      "cell_type": "markdown",
      "metadata": {
        "id": "43KdZark51hm",
        "colab_type": "text"
      },
      "source": [
        "## KNN Classifier "
      ]
    },
    {
      "cell_type": "code",
      "metadata": {
        "id": "7sjKtzYXE4ZH",
        "colab_type": "code",
        "colab": {
          "base_uri": "https://localhost:8080/",
          "height": 72
        },
        "outputId": "fd31500e-24e5-4ef7-8e2d-4888f8f4e81a"
      },
      "source": [
        "from sklearn.neighbors import KNeighborsClassifier\n",
        "\n",
        "neigh = KNeighborsClassifier(n_neighbors=5)\n",
        "neigh.fit(scaled_features,labels)\n"
      ],
      "execution_count": 137,
      "outputs": [
        {
          "output_type": "execute_result",
          "data": {
            "text/plain": [
              "KNeighborsClassifier(algorithm='auto', leaf_size=30, metric='minkowski',\n",
              "                     metric_params=None, n_jobs=None, n_neighbors=5, p=2,\n",
              "                     weights='uniform')"
            ]
          },
          "metadata": {
            "tags": []
          },
          "execution_count": 137
        }
      ]
    },
    {
      "cell_type": "markdown",
      "metadata": {
        "id": "cSAKrAyp57TG",
        "colab_type": "text"
      },
      "source": [
        "## Accuracy calculating"
      ]
    },
    {
      "cell_type": "code",
      "metadata": {
        "id": "ONgZefZlJU0F",
        "colab_type": "code",
        "colab": {}
      },
      "source": [
        "from sklearn.metrics import accuracy_score\n",
        "\n",
        "def accu_score(c,features,label):\n",
        "      y_pred=c.predict(features)\n",
        "      accuracy=accuracy_score(label, y_pred)\n",
        "      print('accuracy:',accuracy)\n"
      ],
      "execution_count": 138,
      "outputs": []
    },
    {
      "cell_type": "markdown",
      "metadata": {
        "id": "RiQOqwTZ6ALT",
        "colab_type": "text"
      },
      "source": [
        "## **Confusion matrix and precision recall**"
      ]
    },
    {
      "cell_type": "code",
      "metadata": {
        "id": "SBpiWan_E4ZN",
        "colab_type": "code",
        "colab": {}
      },
      "source": [
        "from sklearn.metrics import confusion_matrix\n",
        "from sklearn.model_selection import cross_val_predict\n",
        "from sklearn.metrics import classification_report\n",
        "from sklearn.metrics import precision_recall_curve\n",
        "from sklearn.metrics import precision_score\n",
        "from sklearn.metrics import recall_score\n",
        "\n",
        "\n",
        "def con_matrix(c,features,label):\n",
        "    y_train_pred = cross_val_predict(c,features,label,cv=5)\n",
        "    print(\"confusion_matrix\\n\",confusion_matrix(label, y_train_pred))\n",
        "    target_names = ['class 0', 'class 1']\n",
        "    precision=precision_score(label, y_train_pred)\n",
        "    print('precision',precision)\n",
        "    recall=recall_score(label, y_train_pred)\n",
        "    print('recall', recall)\n",
        "    precisions,recalls,thresholds=precision_recall_curve(label, y_train_pred)\n",
        "    print('precisions',precisions)\n",
        "    print('recalls',recalls)\n",
        "    print('thresholds',thresholds)\n",
        "\n",
        "\n",
        "\n"
      ],
      "execution_count": 139,
      "outputs": []
    },
    {
      "cell_type": "code",
      "metadata": {
        "id": "IJmh9QtiE4ZY",
        "colab_type": "code",
        "colab": {
          "base_uri": "https://localhost:8080/",
          "height": 181
        },
        "outputId": "2b72cd96-a01e-4d08-927b-933363f3e10b"
      },
      "source": [
        "accu_score(neigh,scaled_features,labels)\n",
        "con_matrix(neigh,scaled_features,labels)\n"
      ],
      "execution_count": 140,
      "outputs": [
        {
          "output_type": "stream",
          "text": [
            "accuracy: 0.8519553072625698\n",
            "confusion_matrix\n",
            " [[257 101]\n",
            " [ 59 299]]\n",
            "precision 0.7475\n",
            "recall 0.835195530726257\n",
            "precisions [0.5    0.7475 1.    ]\n",
            "recalls [1.         0.83519553 0.        ]\n",
            "thresholds [0 1]\n"
          ],
          "name": "stdout"
        }
      ]
    },
    {
      "cell_type": "markdown",
      "metadata": {
        "id": "YRxrCWk_6I3Y",
        "colab_type": "text"
      },
      "source": [
        "## DT classifier"
      ]
    },
    {
      "cell_type": "code",
      "metadata": {
        "id": "bJwek724E4Zj",
        "colab_type": "code",
        "colab": {
          "base_uri": "https://localhost:8080/",
          "height": 181
        },
        "outputId": "e44ffffc-ca94-4539-cc53-8e604a7a5743"
      },
      "source": [
        "from sklearn.tree import DecisionTreeClassifier\n",
        "clf = DecisionTreeClassifier(random_state=0)\n",
        "clf.fit(scaled_features,labels)\n",
        "accu_score(clf,scaled_features,labels)\n",
        "con_matrix(clf,scaled_features,labels)\n",
        "\n"
      ],
      "execution_count": 141,
      "outputs": [
        {
          "output_type": "stream",
          "text": [
            "accuracy: 1.0\n",
            "confusion_matrix\n",
            " [[291  67]\n",
            " [ 33 325]]\n",
            "precision 0.8290816326530612\n",
            "recall 0.9078212290502793\n",
            "precisions [0.5        0.82908163 1.        ]\n",
            "recalls [1.         0.90782123 0.        ]\n",
            "thresholds [0 1]\n"
          ],
          "name": "stdout"
        }
      ]
    },
    {
      "cell_type": "markdown",
      "metadata": {
        "id": "93EewE4g6PTu",
        "colab_type": "text"
      },
      "source": [
        "## SVM classifier"
      ]
    },
    {
      "cell_type": "code",
      "metadata": {
        "id": "TYXsIi4wynr9",
        "colab_type": "code",
        "colab": {
          "base_uri": "https://localhost:8080/",
          "height": 181
        },
        "outputId": "343ba294-16bf-4a11-8479-3b69c0237872"
      },
      "source": [
        "\n",
        "from sklearn.pipeline import make_pipeline\n",
        "from sklearn.svm import SVC\n",
        "\n",
        "svm=SVC(gamma='auto')\n",
        "svm.fit(scaled_features,labels)\n",
        "\n",
        "accu_score(svm,scaled_features,labels)\n",
        "con_matrix(svm,scaled_features,labels)"
      ],
      "execution_count": 142,
      "outputs": [
        {
          "output_type": "stream",
          "text": [
            "accuracy: 1.0\n",
            "confusion_matrix\n",
            " [[358   0]\n",
            " [ 68 290]]\n",
            "precision 1.0\n",
            "recall 0.8100558659217877\n",
            "precisions [0.5 1.  1. ]\n",
            "recalls [1.         0.81005587 0.        ]\n",
            "thresholds [0 1]\n"
          ],
          "name": "stdout"
        }
      ]
    },
    {
      "cell_type": "markdown",
      "metadata": {
        "id": "Lo1gu9ZW8rIJ",
        "colab_type": "text"
      },
      "source": [
        "## **Separating features and labels of test set**"
      ]
    },
    {
      "cell_type": "code",
      "metadata": {
        "id": "ph6fsL2j8vud",
        "colab_type": "code",
        "colab": {
          "base_uri": "https://localhost:8080/",
          "height": 518
        },
        "outputId": "59a18bce-d963-4076-c457-8d4485711d50"
      },
      "source": [
        "strat_test_set.reset_index(inplace=True)\n",
        "strat_test_set.drop('index',axis=1,inplace=True)\n",
        "test_features=strat_test_set.drop(\"Outcome\",axis=1)\n",
        "test_labels=strat_test_set[\"Outcome\"].copy()\n",
        "strat_test_set"
      ],
      "execution_count": 143,
      "outputs": [
        {
          "output_type": "stream",
          "text": [
            "/usr/local/lib/python3.6/dist-packages/pandas/core/frame.py:3997: SettingWithCopyWarning: \n",
            "A value is trying to be set on a copy of a slice from a DataFrame\n",
            "\n",
            "See the caveats in the documentation: https://pandas.pydata.org/pandas-docs/stable/user_guide/indexing.html#returning-a-view-versus-a-copy\n",
            "  errors=errors,\n"
          ],
          "name": "stderr"
        },
        {
          "output_type": "execute_result",
          "data": {
            "text/html": [
              "<div>\n",
              "<style scoped>\n",
              "    .dataframe tbody tr th:only-of-type {\n",
              "        vertical-align: middle;\n",
              "    }\n",
              "\n",
              "    .dataframe tbody tr th {\n",
              "        vertical-align: top;\n",
              "    }\n",
              "\n",
              "    .dataframe thead th {\n",
              "        text-align: right;\n",
              "    }\n",
              "</style>\n",
              "<table border=\"1\" class=\"dataframe\">\n",
              "  <thead>\n",
              "    <tr style=\"text-align: right;\">\n",
              "      <th></th>\n",
              "      <th>Pregnancies</th>\n",
              "      <th>Glucose</th>\n",
              "      <th>BloodPressure</th>\n",
              "      <th>SkinThickness</th>\n",
              "      <th>Insulin</th>\n",
              "      <th>BMI</th>\n",
              "      <th>DiabetesPedigreeFunction</th>\n",
              "      <th>Age</th>\n",
              "      <th>Outcome</th>\n",
              "    </tr>\n",
              "  </thead>\n",
              "  <tbody>\n",
              "    <tr>\n",
              "      <th>0</th>\n",
              "      <td>7</td>\n",
              "      <td>159</td>\n",
              "      <td>64</td>\n",
              "      <td>0</td>\n",
              "      <td>0</td>\n",
              "      <td>27.4</td>\n",
              "      <td>0.294</td>\n",
              "      <td>40</td>\n",
              "      <td>0</td>\n",
              "    </tr>\n",
              "    <tr>\n",
              "      <th>1</th>\n",
              "      <td>10</td>\n",
              "      <td>68</td>\n",
              "      <td>106</td>\n",
              "      <td>23</td>\n",
              "      <td>49</td>\n",
              "      <td>35.5</td>\n",
              "      <td>0.285</td>\n",
              "      <td>47</td>\n",
              "      <td>0</td>\n",
              "    </tr>\n",
              "    <tr>\n",
              "      <th>2</th>\n",
              "      <td>2</td>\n",
              "      <td>122</td>\n",
              "      <td>76</td>\n",
              "      <td>27</td>\n",
              "      <td>200</td>\n",
              "      <td>35.9</td>\n",
              "      <td>0.483</td>\n",
              "      <td>26</td>\n",
              "      <td>0</td>\n",
              "    </tr>\n",
              "    <tr>\n",
              "      <th>3</th>\n",
              "      <td>7</td>\n",
              "      <td>114</td>\n",
              "      <td>64</td>\n",
              "      <td>0</td>\n",
              "      <td>0</td>\n",
              "      <td>27.4</td>\n",
              "      <td>0.732</td>\n",
              "      <td>34</td>\n",
              "      <td>1</td>\n",
              "    </tr>\n",
              "    <tr>\n",
              "      <th>4</th>\n",
              "      <td>2</td>\n",
              "      <td>74</td>\n",
              "      <td>0</td>\n",
              "      <td>0</td>\n",
              "      <td>0</td>\n",
              "      <td>0.0</td>\n",
              "      <td>0.102</td>\n",
              "      <td>22</td>\n",
              "      <td>0</td>\n",
              "    </tr>\n",
              "    <tr>\n",
              "      <th>...</th>\n",
              "      <td>...</td>\n",
              "      <td>...</td>\n",
              "      <td>...</td>\n",
              "      <td>...</td>\n",
              "      <td>...</td>\n",
              "      <td>...</td>\n",
              "      <td>...</td>\n",
              "      <td>...</td>\n",
              "      <td>...</td>\n",
              "    </tr>\n",
              "    <tr>\n",
              "      <th>149</th>\n",
              "      <td>3</td>\n",
              "      <td>88</td>\n",
              "      <td>58</td>\n",
              "      <td>11</td>\n",
              "      <td>54</td>\n",
              "      <td>24.8</td>\n",
              "      <td>0.267</td>\n",
              "      <td>22</td>\n",
              "      <td>0</td>\n",
              "    </tr>\n",
              "    <tr>\n",
              "      <th>150</th>\n",
              "      <td>2</td>\n",
              "      <td>94</td>\n",
              "      <td>76</td>\n",
              "      <td>18</td>\n",
              "      <td>66</td>\n",
              "      <td>31.6</td>\n",
              "      <td>0.649</td>\n",
              "      <td>23</td>\n",
              "      <td>0</td>\n",
              "    </tr>\n",
              "    <tr>\n",
              "      <th>151</th>\n",
              "      <td>2</td>\n",
              "      <td>82</td>\n",
              "      <td>52</td>\n",
              "      <td>22</td>\n",
              "      <td>115</td>\n",
              "      <td>28.5</td>\n",
              "      <td>1.699</td>\n",
              "      <td>25</td>\n",
              "      <td>0</td>\n",
              "    </tr>\n",
              "    <tr>\n",
              "      <th>152</th>\n",
              "      <td>4</td>\n",
              "      <td>184</td>\n",
              "      <td>78</td>\n",
              "      <td>39</td>\n",
              "      <td>277</td>\n",
              "      <td>37.0</td>\n",
              "      <td>0.264</td>\n",
              "      <td>31</td>\n",
              "      <td>1</td>\n",
              "    </tr>\n",
              "    <tr>\n",
              "      <th>153</th>\n",
              "      <td>1</td>\n",
              "      <td>71</td>\n",
              "      <td>78</td>\n",
              "      <td>50</td>\n",
              "      <td>45</td>\n",
              "      <td>33.2</td>\n",
              "      <td>0.422</td>\n",
              "      <td>21</td>\n",
              "      <td>0</td>\n",
              "    </tr>\n",
              "  </tbody>\n",
              "</table>\n",
              "<p>154 rows × 9 columns</p>\n",
              "</div>"
            ],
            "text/plain": [
              "     Pregnancies  Glucose  ...  Age  Outcome\n",
              "0              7      159  ...   40        0\n",
              "1             10       68  ...   47        0\n",
              "2              2      122  ...   26        0\n",
              "3              7      114  ...   34        1\n",
              "4              2       74  ...   22        0\n",
              "..           ...      ...  ...  ...      ...\n",
              "149            3       88  ...   22        0\n",
              "150            2       94  ...   23        0\n",
              "151            2       82  ...   25        0\n",
              "152            4      184  ...   31        1\n",
              "153            1       71  ...   21        0\n",
              "\n",
              "[154 rows x 9 columns]"
            ]
          },
          "metadata": {
            "tags": []
          },
          "execution_count": 143
        }
      ]
    },
    {
      "cell_type": "code",
      "metadata": {
        "id": "IT_Zzofd-3Ux",
        "colab_type": "code",
        "colab": {
          "base_uri": "https://localhost:8080/",
          "height": 407
        },
        "outputId": "8f29762a-c3a6-4de0-fa87-2d214403b892"
      },
      "source": [
        "test_features"
      ],
      "execution_count": 144,
      "outputs": [
        {
          "output_type": "execute_result",
          "data": {
            "text/html": [
              "<div>\n",
              "<style scoped>\n",
              "    .dataframe tbody tr th:only-of-type {\n",
              "        vertical-align: middle;\n",
              "    }\n",
              "\n",
              "    .dataframe tbody tr th {\n",
              "        vertical-align: top;\n",
              "    }\n",
              "\n",
              "    .dataframe thead th {\n",
              "        text-align: right;\n",
              "    }\n",
              "</style>\n",
              "<table border=\"1\" class=\"dataframe\">\n",
              "  <thead>\n",
              "    <tr style=\"text-align: right;\">\n",
              "      <th></th>\n",
              "      <th>Pregnancies</th>\n",
              "      <th>Glucose</th>\n",
              "      <th>BloodPressure</th>\n",
              "      <th>SkinThickness</th>\n",
              "      <th>Insulin</th>\n",
              "      <th>BMI</th>\n",
              "      <th>DiabetesPedigreeFunction</th>\n",
              "      <th>Age</th>\n",
              "    </tr>\n",
              "  </thead>\n",
              "  <tbody>\n",
              "    <tr>\n",
              "      <th>0</th>\n",
              "      <td>7</td>\n",
              "      <td>159</td>\n",
              "      <td>64</td>\n",
              "      <td>0</td>\n",
              "      <td>0</td>\n",
              "      <td>27.4</td>\n",
              "      <td>0.294</td>\n",
              "      <td>40</td>\n",
              "    </tr>\n",
              "    <tr>\n",
              "      <th>1</th>\n",
              "      <td>10</td>\n",
              "      <td>68</td>\n",
              "      <td>106</td>\n",
              "      <td>23</td>\n",
              "      <td>49</td>\n",
              "      <td>35.5</td>\n",
              "      <td>0.285</td>\n",
              "      <td>47</td>\n",
              "    </tr>\n",
              "    <tr>\n",
              "      <th>2</th>\n",
              "      <td>2</td>\n",
              "      <td>122</td>\n",
              "      <td>76</td>\n",
              "      <td>27</td>\n",
              "      <td>200</td>\n",
              "      <td>35.9</td>\n",
              "      <td>0.483</td>\n",
              "      <td>26</td>\n",
              "    </tr>\n",
              "    <tr>\n",
              "      <th>3</th>\n",
              "      <td>7</td>\n",
              "      <td>114</td>\n",
              "      <td>64</td>\n",
              "      <td>0</td>\n",
              "      <td>0</td>\n",
              "      <td>27.4</td>\n",
              "      <td>0.732</td>\n",
              "      <td>34</td>\n",
              "    </tr>\n",
              "    <tr>\n",
              "      <th>4</th>\n",
              "      <td>2</td>\n",
              "      <td>74</td>\n",
              "      <td>0</td>\n",
              "      <td>0</td>\n",
              "      <td>0</td>\n",
              "      <td>0.0</td>\n",
              "      <td>0.102</td>\n",
              "      <td>22</td>\n",
              "    </tr>\n",
              "    <tr>\n",
              "      <th>...</th>\n",
              "      <td>...</td>\n",
              "      <td>...</td>\n",
              "      <td>...</td>\n",
              "      <td>...</td>\n",
              "      <td>...</td>\n",
              "      <td>...</td>\n",
              "      <td>...</td>\n",
              "      <td>...</td>\n",
              "    </tr>\n",
              "    <tr>\n",
              "      <th>149</th>\n",
              "      <td>3</td>\n",
              "      <td>88</td>\n",
              "      <td>58</td>\n",
              "      <td>11</td>\n",
              "      <td>54</td>\n",
              "      <td>24.8</td>\n",
              "      <td>0.267</td>\n",
              "      <td>22</td>\n",
              "    </tr>\n",
              "    <tr>\n",
              "      <th>150</th>\n",
              "      <td>2</td>\n",
              "      <td>94</td>\n",
              "      <td>76</td>\n",
              "      <td>18</td>\n",
              "      <td>66</td>\n",
              "      <td>31.6</td>\n",
              "      <td>0.649</td>\n",
              "      <td>23</td>\n",
              "    </tr>\n",
              "    <tr>\n",
              "      <th>151</th>\n",
              "      <td>2</td>\n",
              "      <td>82</td>\n",
              "      <td>52</td>\n",
              "      <td>22</td>\n",
              "      <td>115</td>\n",
              "      <td>28.5</td>\n",
              "      <td>1.699</td>\n",
              "      <td>25</td>\n",
              "    </tr>\n",
              "    <tr>\n",
              "      <th>152</th>\n",
              "      <td>4</td>\n",
              "      <td>184</td>\n",
              "      <td>78</td>\n",
              "      <td>39</td>\n",
              "      <td>277</td>\n",
              "      <td>37.0</td>\n",
              "      <td>0.264</td>\n",
              "      <td>31</td>\n",
              "    </tr>\n",
              "    <tr>\n",
              "      <th>153</th>\n",
              "      <td>1</td>\n",
              "      <td>71</td>\n",
              "      <td>78</td>\n",
              "      <td>50</td>\n",
              "      <td>45</td>\n",
              "      <td>33.2</td>\n",
              "      <td>0.422</td>\n",
              "      <td>21</td>\n",
              "    </tr>\n",
              "  </tbody>\n",
              "</table>\n",
              "<p>154 rows × 8 columns</p>\n",
              "</div>"
            ],
            "text/plain": [
              "     Pregnancies  Glucose  BloodPressure  ...   BMI  DiabetesPedigreeFunction  Age\n",
              "0              7      159             64  ...  27.4                     0.294   40\n",
              "1             10       68            106  ...  35.5                     0.285   47\n",
              "2              2      122             76  ...  35.9                     0.483   26\n",
              "3              7      114             64  ...  27.4                     0.732   34\n",
              "4              2       74              0  ...   0.0                     0.102   22\n",
              "..           ...      ...            ...  ...   ...                       ...  ...\n",
              "149            3       88             58  ...  24.8                     0.267   22\n",
              "150            2       94             76  ...  31.6                     0.649   23\n",
              "151            2       82             52  ...  28.5                     1.699   25\n",
              "152            4      184             78  ...  37.0                     0.264   31\n",
              "153            1       71             78  ...  33.2                     0.422   21\n",
              "\n",
              "[154 rows x 8 columns]"
            ]
          },
          "metadata": {
            "tags": []
          },
          "execution_count": 144
        }
      ]
    },
    {
      "cell_type": "markdown",
      "metadata": {
        "id": "YlmZKLVn9hJQ",
        "colab_type": "text"
      },
      "source": [
        "## **Predictions**"
      ]
    },
    {
      "cell_type": "code",
      "metadata": {
        "id": "Bnp1HXNE9jFp",
        "colab_type": "code",
        "colab": {
          "base_uri": "https://localhost:8080/",
          "height": 181
        },
        "outputId": "3f57697c-81bf-4db0-c0a5-47f2a7ee743a"
      },
      "source": [
        "print('KNN\\n')\n",
        "accu_score(neigh,test_features,test_labels)\n",
        "print('Deciion Tree\\n')\n",
        "accu_score(clf,test_features,test_labels)\n",
        "print('SVM\\n')\n",
        "accu_score(svm,test_features,test_labels)"
      ],
      "execution_count": 145,
      "outputs": [
        {
          "output_type": "stream",
          "text": [
            "KNN\n",
            "\n",
            "accuracy: 0.6168831168831169\n",
            "Deciion Tree\n",
            "\n",
            "accuracy: 0.7142857142857143\n",
            "SVM\n",
            "\n",
            "accuracy: 0.6493506493506493\n"
          ],
          "name": "stdout"
        }
      ]
    }
  ]
}